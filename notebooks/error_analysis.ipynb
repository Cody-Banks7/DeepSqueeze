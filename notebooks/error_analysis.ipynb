{
 "cells": [
  {
   "cell_type": "markdown",
   "id": "d6f3e804-4249-4d9a-a0fe-592ba7d537bd",
   "metadata": {},
   "source": [
    "# Error Analysis"
   ]
  },
  {
   "cell_type": "code",
   "execution_count": 72,
   "id": "4bd25dc5-f125-423e-a779-63f969f6d753",
   "metadata": {},
   "outputs": [],
   "source": [
    "import pandas as pd\n",
    "import numpy as np\n",
    "from sklearn.preprocessing import MinMaxScaler"
   ]
  },
  {
   "cell_type": "code",
   "execution_count": 73,
   "id": "54bdac0a-9bf3-43a2-baa0-a1794c32b40a",
   "metadata": {},
   "outputs": [],
   "source": [
    "original_file = np.array(pd.read_csv('../storage/demo/berkeley_original.csv', header=None))\n",
    "decompressed_file = np.array(pd.read_csv('../storage/demo/berkeley_demo.csv', header=None))\n",
    "error_thr = 0.005"
   ]
  },
  {
   "cell_type": "markdown",
   "id": "6b570910-41c7-45f3-be85-76faf94d24d1",
   "metadata": {},
   "source": [
    "**No scaling error checking**"
   ]
  },
  {
   "cell_type": "code",
   "execution_count": 74,
   "id": "0f868014-249d-4946-a260-ca806e2790b0",
   "metadata": {},
   "outputs": [],
   "source": [
    "col_minimums = np.min(original_file, axis=0)\n",
    "col_maximums = np.max(original_file, axis=0)\n",
    "\n",
    "bins = [np.arange(minim, maxim, 2 * error_thr * (maxim - minim)) \n",
    "        for minim, maxim in zip(col_minimums, col_maximums)]\n",
    "\n",
    "def quantize(arr, bins):\n",
    "    quantized_cols = []\n",
    "    \n",
    "    for bin_col, col in zip(bins, arr.T):\n",
    "        quantized_cols.append(np.digitize(col, bin_col))\n",
    "        \n",
    "    return np.array(quantized_cols).T"
   ]
  },
  {
   "cell_type": "code",
   "execution_count": 75,
   "id": "befcfbc5-4c10-4a95-afdc-dadcab9b2549",
   "metadata": {},
   "outputs": [
    {
     "name": "stdout",
     "output_type": "stream",
     "text": [
      "Percentage of non-zeros: 0.0\n"
     ]
    }
   ],
   "source": [
    "orig_quantized = quantize(original_file, bins)\n",
    "decomp_quantized = quantize(decompressed_file, bins)\n",
    "# The two matrices should exactly match\n",
    "\n",
    "non_zero_values = np.sum((orig_quantized - decomp_quantized) != 0)\n",
    "print(f\"Percentage of non-zeros: {non_zero_values / (orig_quantized.shape[0] * orig_quantized.shape[1])}\")"
   ]
  },
  {
   "cell_type": "markdown",
   "id": "0cf420f7-102e-468f-a3df-4b0805a8c957",
   "metadata": {},
   "source": [
    "**With scaling error checking**"
   ]
  },
  {
   "cell_type": "code",
   "execution_count": 76,
   "id": "36585b11-4042-4b75-8592-00fb01c1ef8d",
   "metadata": {},
   "outputs": [
    {
     "name": "stdout",
     "output_type": "stream",
     "text": [
      "Percentage of non-zeros: 0.0\n"
     ]
    }
   ],
   "source": [
    "# Scaling\n",
    "scaler = MinMaxScaler()\n",
    "scaled_input = scaler.fit_transform(original_file)\n",
    "scaled_decomp = scaler.transform(decompressed_file)\n",
    "\n",
    "# Quantization\n",
    "bins_scaled = np.arange(0, 1, 2 * error_thr)\n",
    "\n",
    "orig_quantized_scaled = np.digitize(scaled_input, bins_scaled)\n",
    "decomp_quantized_scaled = np.digitize(scaled_decomp, bins_scaled)\n",
    "\n",
    "non_zero_values = np.sum((orig_quantized_scaled - decomp_quantized_scaled) != 0)\n",
    "print(f\"Percentage of non-zeros: {non_zero_values / (orig_quantized_scaled.shape[0] * orig_quantized_scaled.shape[1])}\")"
   ]
  },
  {
   "cell_type": "code",
   "execution_count": 77,
   "id": "298fcf25-61b7-4bf8-8bee-0fce0cecce3f",
   "metadata": {},
   "outputs": [
    {
     "name": "stdout",
     "output_type": "stream",
     "text": [
      "(2219803, 8)\n"
     ]
    }
   ],
   "source": [
    "print(orig_quantized_scaled.shape)"
   ]
  }
 ],
 "metadata": {
  "kernelspec": {
   "display_name": "Python [conda env:DeepSqueeze]",
   "language": "python",
   "name": "conda-env-DeepSqueeze-py"
  },
  "language_info": {
   "codemirror_mode": {
    "name": "ipython",
    "version": 3
   },
   "file_extension": ".py",
   "mimetype": "text/x-python",
   "name": "python",
   "nbconvert_exporter": "python",
   "pygments_lexer": "ipython3",
   "version": "3.8.10"
  }
 },
 "nbformat": 4,
 "nbformat_minor": 5
}
